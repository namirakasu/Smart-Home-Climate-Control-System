{
  "nbformat": 4,
  "nbformat_minor": 0,
  "metadata": {
    "colab": {
      "provenance": []
    },
    "kernelspec": {
      "name": "python3",
      "display_name": "Python 3"
    },
    "language_info": {
      "name": "python"
    }
  },
  "cells": [
    {
      "cell_type": "code",
      "execution_count": null,
      "metadata": {
        "colab": {
          "base_uri": "https://localhost:8080/"
        },
        "id": "5Mjzr6BTCbby",
        "outputId": "4b034f27-3944-4bbd-b60b-cae3579a5d1b"
      },
      "outputs": [
        {
          "output_type": "stream",
          "name": "stdout",
          "text": [
            "Collecting scikit-fuzzy\n",
            "  Downloading scikit_fuzzy-0.5.0-py2.py3-none-any.whl.metadata (2.6 kB)\n",
            "Downloading scikit_fuzzy-0.5.0-py2.py3-none-any.whl (920 kB)\n",
            "\u001b[?25l   \u001b[90m━━━━━━━━━━━━━━━━━━━━━━━━━━━━━━━━━━━━━━━━\u001b[0m \u001b[32m0.0/920.8 kB\u001b[0m \u001b[31m?\u001b[0m eta \u001b[36m-:--:--\u001b[0m\r\u001b[2K   \u001b[91m━━━━━━━━━━━━━━━━━━━\u001b[0m\u001b[90m╺\u001b[0m\u001b[90m━━━━━━━━━━━━━━━━━━━━\u001b[0m \u001b[32m440.3/920.8 kB\u001b[0m \u001b[31m12.5 MB/s\u001b[0m eta \u001b[36m0:00:01\u001b[0m\r\u001b[2K   \u001b[91m━━━━━━━━━━━━━━━━━━━━━━━━━━━━━━━━━━━━━━━\u001b[0m\u001b[91m╸\u001b[0m \u001b[32m911.4/920.8 kB\u001b[0m \u001b[31m12.5 MB/s\u001b[0m eta \u001b[36m0:00:01\u001b[0m\r\u001b[2K   \u001b[90m━━━━━━━━━━━━━━━━━━━━━━━━━━━━━━━━━━━━━━━━\u001b[0m \u001b[32m920.8/920.8 kB\u001b[0m \u001b[31m8.8 MB/s\u001b[0m eta \u001b[36m0:00:00\u001b[0m\n",
            "\u001b[?25hInstalling collected packages: scikit-fuzzy\n",
            "Successfully installed scikit-fuzzy-0.5.0\n"
          ]
        }
      ],
      "source": [
        "pip install scikit-fuzzy\n"
      ]
    },
    {
      "cell_type": "code",
      "source": [
        "import numpy as np\n",
        "import skfuzzy as fuzz\n",
        "from skfuzzy import control as ctrl\n",
        "\n",
        "# Define input variables\n",
        "room_temp = ctrl.Antecedent(np.arange(0, 41, 1), 'room_temp')  # Room temperature (°C)\n",
        "external_temp = ctrl.Antecedent(np.arange(-10, 41, 1), 'external_temp')  # External temperature (°C)\n",
        "humidity = ctrl.Antecedent(np.arange(0, 101, 1), 'humidity')  # Humidity (%)\n",
        "\n",
        "# Define output variables\n",
        "heater_power = ctrl.Consequent(np.arange(0, 101, 1), 'heater_power')  # Heater power (%)\n",
        "cooler_power = ctrl.Consequent(np.arange(0, 101, 1), 'cooler_power')  # Cooler power (%)\n",
        "fan_speed = ctrl.Consequent(np.arange(0, 101, 1), 'fan_speed')  # Fan speed (%)\n",
        "\n",
        "# Fuzzy membership functions for inputs\n",
        "room_temp['cold'] = fuzz.trapmf(room_temp.universe, [0, 0, 10, 15])\n",
        "room_temp['cool'] = fuzz.trimf(room_temp.universe, [10, 20, 25])\n",
        "room_temp['warm'] = fuzz.trimf(room_temp.universe, [20, 25, 30])\n",
        "room_temp['hot'] = fuzz.trapmf(room_temp.universe, [25, 30, 40, 40])\n",
        "\n",
        "external_temp['cold'] = fuzz.trapmf(external_temp.universe, [-10, -10, 0, 10])\n",
        "external_temp['mild'] = fuzz.trimf(external_temp.universe, [0, 15, 25])\n",
        "external_temp['hot'] = fuzz.trapmf(external_temp.universe, [20, 30, 40, 40])\n",
        "\n",
        "humidity['low'] = fuzz.trapmf(humidity.universe, [0, 0, 20, 40])\n",
        "humidity['medium'] = fuzz.trimf(humidity.universe, [30, 50, 70])\n",
        "humidity['high'] = fuzz.trapmf(humidity.universe, [60, 80, 100, 100])\n",
        "\n",
        "# Fuzzy membership functions for outputs\n",
        "heater_power['off'] = fuzz.trimf(heater_power.universe, [0, 0, 50])\n",
        "heater_power['medium'] = fuzz.trimf(heater_power.universe, [25, 50, 75])\n",
        "heater_power['high'] = fuzz.trimf(heater_power.universe, [50, 100, 100])\n",
        "\n",
        "cooler_power['off'] = fuzz.trimf(cooler_power.universe, [0, 0, 50])\n",
        "cooler_power['medium'] = fuzz.trimf(cooler_power.universe, [25, 50, 75])\n",
        "cooler_power['high'] = fuzz.trimf(cooler_power.universe, [50, 100, 100])\n",
        "\n",
        "fan_speed['low'] = fuzz.trimf(fan_speed.universe, [0, 25, 50])\n",
        "fan_speed['medium'] = fuzz.trimf(fan_speed.universe, [25, 50, 75])\n",
        "fan_speed['high'] = fuzz.trimf(fan_speed.universe, [50, 100, 100])\n",
        "\n",
        "# Define rules\n",
        "rule1 = ctrl.Rule(room_temp['cold'] & external_temp['cold'] & humidity['low'],\n",
        "                  [heater_power['high'], cooler_power['off'], fan_speed['low']])\n",
        "rule2 = ctrl.Rule(room_temp['cold'] & external_temp['mild'] & humidity['medium'],\n",
        "                  [heater_power['medium'], cooler_power['off'], fan_speed['medium']])\n",
        "rule3 = ctrl.Rule(room_temp['cool'] & external_temp['hot'] & humidity['high'],\n",
        "                  [heater_power['off'], cooler_power['medium'], fan_speed['medium']])\n",
        "rule4 = ctrl.Rule(room_temp['warm'] & external_temp['hot'] & humidity['low'],\n",
        "                  [heater_power['off'], cooler_power['high'], fan_speed['high']])\n",
        "rule5 = ctrl.Rule(room_temp['hot'] & external_temp['mild'] & humidity['medium'],\n",
        "                  [heater_power['off'], cooler_power['high'], fan_speed['high']])\n",
        "\n",
        "# Control system\n",
        "smart_home_ctrl = ctrl.ControlSystem([rule1, rule2, rule3, rule4, rule5])\n",
        "smart_home = ctrl.ControlSystemSimulation(smart_home_ctrl)\n",
        "\n",
        "# Input example values\n",
        "smart_home.input['room_temp'] = 28\n",
        "smart_home.input['external_temp'] = 35\n",
        "smart_home.input['humidity'] = 65\n",
        "\n",
        "# Compute the outputs\n",
        "smart_home.compute()\n",
        "\n",
        "# Output the results\n",
        "print(f\"Heater Power: {smart_home.output['heater_power']:.2f}%\")\n",
        "print(f\"Cooler Power: {smart_home.output['cooler_power']:.2f}%\")\n",
        "print(f\"Fan Speed: {smart_home.output['fan_speed']:.2f}%\")\n"
      ],
      "metadata": {
        "colab": {
          "base_uri": "https://localhost:8080/",
          "height": 211
        },
        "id": "OHQCZuIuDaRT",
        "outputId": "6a9930a9-2344-44bb-9757-53f4144b38ad"
      },
      "execution_count": null,
      "outputs": [
        {
          "output_type": "error",
          "ename": "KeyError",
          "evalue": "'heater_power'",
          "traceback": [
            "\u001b[0;31m---------------------------------------------------------------------------\u001b[0m",
            "\u001b[0;31mKeyError\u001b[0m                                  Traceback (most recent call last)",
            "\u001b[0;32m<ipython-input-2-cc39591c9e67>\u001b[0m in \u001b[0;36m<cell line: 67>\u001b[0;34m()\u001b[0m\n\u001b[1;32m     65\u001b[0m \u001b[0;34m\u001b[0m\u001b[0m\n\u001b[1;32m     66\u001b[0m \u001b[0;31m# Output the results\u001b[0m\u001b[0;34m\u001b[0m\u001b[0;34m\u001b[0m\u001b[0m\n\u001b[0;32m---> 67\u001b[0;31m \u001b[0mprint\u001b[0m\u001b[0;34m(\u001b[0m\u001b[0;34mf\"Heater Power: {smart_home.output['heater_power']:.2f}%\"\u001b[0m\u001b[0;34m)\u001b[0m\u001b[0;34m\u001b[0m\u001b[0;34m\u001b[0m\u001b[0m\n\u001b[0m\u001b[1;32m     68\u001b[0m \u001b[0mprint\u001b[0m\u001b[0;34m(\u001b[0m\u001b[0;34mf\"Cooler Power: {smart_home.output['cooler_power']:.2f}%\"\u001b[0m\u001b[0;34m)\u001b[0m\u001b[0;34m\u001b[0m\u001b[0;34m\u001b[0m\u001b[0m\n\u001b[1;32m     69\u001b[0m \u001b[0mprint\u001b[0m\u001b[0;34m(\u001b[0m\u001b[0;34mf\"Fan Speed: {smart_home.output['fan_speed']:.2f}%\"\u001b[0m\u001b[0;34m)\u001b[0m\u001b[0;34m\u001b[0m\u001b[0;34m\u001b[0m\u001b[0m\n",
            "\u001b[0;31mKeyError\u001b[0m: 'heater_power'"
          ]
        }
      ]
    },
    {
      "source": [
        "import numpy as np\n",
        "import skfuzzy as fuzz\n",
        "from skfuzzy import control as ctrl\n",
        "\n",
        "# ... (rest of the code remains the same) ...\n",
        "\n",
        "# Define rules\n",
        "rule1 = ctrl.Rule(room_temp['cold'] & external_temp['cold'] & humidity['low'],\n",
        "                  [heater_power['high'], cooler_power['off'], fan_speed['low']])\n",
        "rule2 = ctrl.Rule(room_temp['cold'] & external_temp['mild'] & humidity['medium'],\n",
        "                  [heater_power['medium'], cooler_power['off'], fan_speed['medium']])\n",
        "rule3 = ctrl.Rule(room_temp['cool'] & external_temp['hot'] & humidity['high'],\n",
        "                  [heater_power['off'], cooler_power['medium'], fan_speed['medium']])\n",
        "rule4 = ctrl.Rule(room_temp['warm'] & external_temp['hot'] & humidity['low'],\n",
        "                  [heater_power['off'], cooler_power['high'], fan_speed['high']])\n",
        "rule5 = ctrl.Rule(room_temp['hot'] & external_temp['mild'] & humidity['medium'],\n",
        "                  [heater_power['off'], cooler_power['high'], fan_speed['high']])\n",
        "\n",
        "\n",
        "# Control system\n",
        "smart_home_ctrl = ctrl.ControlSystem([rule1, rule2, rule3, rule4, rule5])\n",
        "smart_home = ctrl.ControlSystemSimulation(smart_home_ctrl)\n",
        "\n",
        "# Input example values\n",
        "smart_home.input['room_temp'] = 28\n",
        "smart_home.input['external_temp'] = 35\n",
        "smart_home.input['humidity'] = 65\n",
        "\n",
        "# Compute the outputs\n",
        "smart_home.compute()\n",
        "\n",
        "# Print the output dictionary to check its contents\n",
        "print(smart_home.output)\n",
        "\n",
        "# Output the results, but only if the key is in the dictionary\n",
        "if 'heater_power' in smart_home.output:\n",
        "    print(f\"Heater Power: {smart_home.output['heater_power']:.2f}%\")\n",
        "if 'cooler_power' in smart_home.output:\n",
        "    print(f\"Cooler Power: {smart_home.output['cooler_power']:.2f}%\")\n",
        "if 'fan_speed' in smart_home.output:\n",
        "    print(f\"Fan Speed: {smart_home.output['fan_speed']:.2f}%\")"
      ],
      "cell_type": "code",
      "metadata": {
        "colab": {
          "base_uri": "https://localhost:8080/"
        },
        "id": "iN28gT_1D1hY",
        "outputId": "3cf7c220-8e56-4301-990d-5d936cf4149b"
      },
      "execution_count": null,
      "outputs": [
        {
          "output_type": "stream",
          "name": "stdout",
          "text": [
            "{}\n"
          ]
        }
      ]
    },
    {
      "cell_type": "code",
      "source": [
        "smart_home.input['room_temp'] = 10\n",
        "smart_home.input['external_temp'] = 5\n",
        "smart_home.input['humidity'] = 30\n",
        "\n",
        "smart_home.compute()\n",
        "\n",
        "print(f\"Heater Power: {smart_home.output['heater_power']:.2f}%\")\n",
        "print(f\"Cooler Power: {smart_home.output['cooler_power']:.2f}%\")\n",
        "print(f\"Fan Speed: {smart_home.output['fan_speed']:.2f}%\")\n"
      ],
      "metadata": {
        "colab": {
          "base_uri": "https://localhost:8080/"
        },
        "id": "hR2se4OtDd0o",
        "outputId": "385b7d3e-39ce-4be9-c074-18f807aef32a"
      },
      "execution_count": null,
      "outputs": [
        {
          "output_type": "stream",
          "name": "stdout",
          "text": [
            "Heater Power: 80.56%\n",
            "Cooler Power: 19.44%\n",
            "Fan Speed: 25.00%\n"
          ]
        }
      ]
    }
  ]
}